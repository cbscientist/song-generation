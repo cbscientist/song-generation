{
 "cells": [
  {
   "cell_type": "code",
   "execution_count": 10,
   "metadata": {},
   "outputs": [],
   "source": [
    "import tensorflow as tf\n",
    "\n",
    "from tensorflow.keras.preprocessing.sequence import pad_sequences\n",
    "from tensorflow.keras.layers import Embedding, LSTM, Dense, Bidirectional\n",
    "from tensorflow.keras.preprocessing.text import Tokenizer\n",
    "from tensorflow.keras.models import Sequential\n",
    "from tensorflow.keras.optimizers import Adam\n",
    "\n",
    "import numpy as np\n",
    "\n",
    "import os"
   ]
  },
  {
   "cell_type": "code",
   "execution_count": 11,
   "metadata": {},
   "outputs": [],
   "source": [
    "def build_corpus(folder_path: str) -> list:\n",
    "    \"\"\"\n",
    "    Given a directory of text files, builds a corpus of\n",
    "    sentences that can be used to train neural networks.\n",
    "    \"\"\"\n",
    "    corpus = []\n",
    "\n",
    "    for root, _, files in os.walk(folder_path):\n",
    "        for filename in files:\n",
    "            if filename.endswith(\".txt\"):\n",
    "                full_path_to_file = root + \"/\" + filename\n",
    "                with open(full_path_to_file, 'r') as infile:\n",
    "                    lines = infile.read().split('\\n')\n",
    "                    corpus += lines\n",
    "    \n",
    "    # deduplicating because I'm getting weird prediction results\n",
    "    corpus = list(set(corpus))\n",
    "\n",
    "    return corpus"
   ]
  },
  {
   "cell_type": "code",
   "execution_count": 12,
   "metadata": {},
   "outputs": [],
   "source": [
    "corpus = build_corpus(\"./corpus\")"
   ]
  },
  {
   "cell_type": "code",
   "execution_count": 13,
   "metadata": {},
   "outputs": [],
   "source": [
    "# no need for an OOV token, since we'll be training using the entire corpus\n",
    "tokenizer = Tokenizer()\n",
    "tokenizer.fit_on_texts(corpus)\n",
    "word_index = tokenizer.word_index\n",
    "total_words = len(word_index) + 1"
   ]
  },
  {
   "cell_type": "code",
   "execution_count": 14,
   "metadata": {},
   "outputs": [],
   "source": [
    "input_sequences = []\n",
    "for line in corpus:\n",
    "    token_list = tokenizer.texts_to_sequences([line])[0]\n",
    "    for i in range(1, len(token_list)):\n",
    "        n_gram_sequence = token_list[:i+1]\n",
    "        input_sequences.append(n_gram_sequence)\n",
    "\n",
    "max_sequence_len = max([len(x) for x in input_sequences])\n",
    "input_sequences = np.array(pad_sequences(input_sequences, maxlen=max_sequence_len, padding='pre'))"
   ]
  },
  {
   "cell_type": "code",
   "execution_count": 15,
   "metadata": {},
   "outputs": [
    {
     "data": {
      "text/plain": [
       "6263"
      ]
     },
     "execution_count": 15,
     "metadata": {},
     "output_type": "execute_result"
    }
   ],
   "source": [
    "len(input_sequences)"
   ]
  },
  {
   "cell_type": "code",
   "execution_count": 16,
   "metadata": {},
   "outputs": [],
   "source": [
    "xs = input_sequences[:,:-1]\n",
    "labels = input_sequences[:, -1]\n",
    "ys = tf.keras.utils.to_categorical(labels, num_classes=total_words)"
   ]
  },
  {
   "cell_type": "code",
   "execution_count": 17,
   "metadata": {},
   "outputs": [
    {
     "name": "stderr",
     "output_type": "stream",
     "text": [
      "2021-11-21 09:58:22.971052: I tensorflow/core/platform/cpu_feature_guard.cc:145] This TensorFlow binary is optimized with Intel(R) MKL-DNN to use the following CPU instructions in performance critical operations:  SSE4.1 SSE4.2 AVX AVX2 FMA\n",
      "To enable them in non-MKL-DNN operations, rebuild TensorFlow with the appropriate compiler flags.\n",
      "2021-11-21 09:58:22.971422: I tensorflow/core/common_runtime/process_util.cc:115] Creating new thread pool with default inter op setting: 12. Tune using inter_op_parallelism_threads for best performance.\n"
     ]
    },
    {
     "name": "stdout",
     "output_type": "stream",
     "text": [
      "Train on 6263 samples\n",
      "Epoch 1/100\n"
     ]
    },
    {
     "name": "stderr",
     "output_type": "stream",
     "text": [
      "2021-11-21 09:58:26.600120: W tensorflow/core/grappler/optimizers/implementation_selector.cc:310] Skipping optimization due to error while loading function libraries: Invalid argument: Functions '__inference___backward_cudnn_lstm_with_fallback_4483_4667' and '__inference___backward_standard_lstm_5328_5815_specialized_for_StatefulPartitionedCall_1_at___inference_distributed_function_5972' both implement 'lstm_b35d9826-a8d8-4699-a95a-a9533edfbdd6' but their signatures do not match.\n"
     ]
    },
    {
     "name": "stdout",
     "output_type": "stream",
     "text": [
      "6263/6263 [==============================] - 17s 3ms/sample - loss: 6.1988 - accuracy: 0.0433\n",
      "Epoch 2/100\n",
      "6263/6263 [==============================] - 13s 2ms/sample - loss: 5.2718 - accuracy: 0.1071\n",
      "Epoch 3/100\n",
      "6263/6263 [==============================] - 13s 2ms/sample - loss: 4.3688 - accuracy: 0.1852\n",
      "Epoch 4/100\n",
      "6263/6263 [==============================] - 13s 2ms/sample - loss: 3.3837 - accuracy: 0.2762\n",
      "Epoch 5/100\n",
      "6263/6263 [==============================] - 12s 2ms/sample - loss: 2.5304 - accuracy: 0.4164\n",
      "Epoch 6/100\n",
      "6263/6263 [==============================] - 12s 2ms/sample - loss: 1.8792 - accuracy: 0.5459\n",
      "Epoch 7/100\n",
      "6263/6263 [==============================] - 13s 2ms/sample - loss: 1.4590 - accuracy: 0.6417\n",
      "Epoch 8/100\n",
      "6263/6263 [==============================] - 14s 2ms/sample - loss: 1.1720 - accuracy: 0.7128\n",
      "Epoch 9/100\n",
      "6263/6263 [==============================] - 19s 3ms/sample - loss: 1.0112 - accuracy: 0.7468\n",
      "Epoch 10/100\n",
      "6263/6263 [==============================] - 16s 3ms/sample - loss: 0.9001 - accuracy: 0.7701\n",
      "Epoch 11/100\n",
      "6263/6263 [==============================] - 22s 4ms/sample - loss: 0.8345 - accuracy: 0.7827\n",
      "Epoch 12/100\n",
      "6263/6263 [==============================] - 14s 2ms/sample - loss: 0.7958 - accuracy: 0.7929\n",
      "Epoch 13/100\n",
      "6263/6263 [==============================] - 24s 4ms/sample - loss: 0.7618 - accuracy: 0.7956\n",
      "Epoch 14/100\n",
      "6263/6263 [==============================] - 19s 3ms/sample - loss: 0.7368 - accuracy: 0.7993\n",
      "Epoch 15/100\n",
      "6263/6263 [==============================] - 29s 5ms/sample - loss: 0.7201 - accuracy: 0.7988\n",
      "Epoch 16/100\n",
      "6263/6263 [==============================] - 15s 2ms/sample - loss: 0.7129 - accuracy: 0.7999\n",
      "Epoch 17/100\n",
      "6263/6263 [==============================] - 32s 5ms/sample - loss: 0.7030 - accuracy: 0.8017\n",
      "Epoch 18/100\n",
      "6263/6263 [==============================] - 20s 3ms/sample - loss: 0.6864 - accuracy: 0.8020\n",
      "Epoch 19/100\n",
      "6263/6263 [==============================] - 32s 5ms/sample - loss: 0.6914 - accuracy: 0.8004\n",
      "Epoch 20/100\n",
      "6263/6263 [==============================] - 21s 3ms/sample - loss: 0.7025 - accuracy: 0.8006\n",
      "Epoch 21/100\n",
      "6263/6263 [==============================] - 31s 5ms/sample - loss: 1.8603 - accuracy: 0.5454\n",
      "Epoch 22/100\n",
      "6263/6263 [==============================] - 23s 4ms/sample - loss: 2.9191 - accuracy: 0.3388\n",
      "Epoch 23/100\n",
      "6263/6263 [==============================] - 27s 4ms/sample - loss: 1.8910 - accuracy: 0.5175\n",
      "Epoch 24/100\n",
      "6263/6263 [==============================] - 23s 4ms/sample - loss: 1.2781 - accuracy: 0.6570\n",
      "Epoch 25/100\n",
      "6263/6263 [==============================] - 16s 2ms/sample - loss: 0.9835 - accuracy: 0.7367\n",
      "Epoch 26/100\n",
      "6263/6263 [==============================] - 23s 4ms/sample - loss: 0.8191 - accuracy: 0.7776\n",
      "Epoch 27/100\n",
      "6263/6263 [==============================] - 16s 2ms/sample - loss: 0.7585 - accuracy: 0.7937\n",
      "Epoch 28/100\n",
      "6263/6263 [==============================] - 32s 5ms/sample - loss: 0.7127 - accuracy: 0.7945\n",
      "Epoch 29/100\n",
      "6263/6263 [==============================] - 17s 3ms/sample - loss: 0.6912 - accuracy: 0.8009\n",
      "Epoch 30/100\n",
      "6263/6263 [==============================] - 31s 5ms/sample - loss: 0.6772 - accuracy: 0.8015\n",
      "Epoch 31/100\n",
      "6263/6263 [==============================] - 18s 3ms/sample - loss: 0.6611 - accuracy: 0.8007\n",
      "Epoch 32/100\n",
      "6263/6263 [==============================] - 22s 4ms/sample - loss: 0.6541 - accuracy: 0.8062\n",
      "Epoch 33/100\n",
      "6263/6263 [==============================] - 19s 3ms/sample - loss: 0.6484 - accuracy: 0.8046\n",
      "Epoch 34/100\n",
      "6263/6263 [==============================] - 37s 6ms/sample - loss: 0.6472 - accuracy: 0.8047\n",
      "Epoch 35/100\n",
      "6263/6263 [==============================] - 24s 4ms/sample - loss: 0.6468 - accuracy: 0.8034\n",
      "Epoch 36/100\n",
      "6263/6263 [==============================] - 24s 4ms/sample - loss: 0.6401 - accuracy: 0.8039\n",
      "Epoch 37/100\n",
      "6263/6263 [==============================] - 32s 5ms/sample - loss: 0.6425 - accuracy: 0.8020\n",
      "Epoch 38/100\n",
      "6263/6263 [==============================] - 18s 3ms/sample - loss: 0.6415 - accuracy: 0.8025\n",
      "Epoch 39/100\n",
      "6263/6263 [==============================] - 29s 5ms/sample - loss: 0.6448 - accuracy: 0.8036\n",
      "Epoch 40/100\n",
      "6263/6263 [==============================] - 18s 3ms/sample - loss: 0.6833 - accuracy: 0.7950\n",
      "Epoch 41/100\n",
      "6263/6263 [==============================] - 25s 4ms/sample - loss: 1.7822 - accuracy: 0.5654\n",
      "Epoch 42/100\n",
      "6263/6263 [==============================] - 17s 3ms/sample - loss: 2.9191 - accuracy: 0.3703\n",
      "Epoch 43/100\n",
      "6263/6263 [==============================] - 35s 6ms/sample - loss: 1.9482 - accuracy: 0.5041\n",
      "Epoch 44/100\n",
      "6263/6263 [==============================] - 18s 3ms/sample - loss: 1.2784 - accuracy: 0.6521\n",
      "Epoch 45/100\n",
      "6263/6263 [==============================] - 40s 6ms/sample - loss: 0.9673 - accuracy: 0.7373\n",
      "Epoch 46/100\n",
      "6263/6263 [==============================] - 24s 4ms/sample - loss: 0.8162 - accuracy: 0.7752\n",
      "Epoch 47/100\n",
      "6263/6263 [==============================] - 30s 5ms/sample - loss: 0.7333 - accuracy: 0.7959\n",
      "Epoch 48/100\n",
      "6263/6263 [==============================] - 40s 6ms/sample - loss: 0.6935 - accuracy: 0.8012\n",
      "Epoch 49/100\n",
      "6263/6263 [==============================] - 21s 3ms/sample - loss: 0.6810 - accuracy: 0.7990\n",
      "Epoch 50/100\n",
      "6263/6263 [==============================] - 37s 6ms/sample - loss: 0.6609 - accuracy: 0.8007\n",
      "Epoch 51/100\n",
      "6263/6263 [==============================] - 17s 3ms/sample - loss: 0.6581 - accuracy: 0.8050\n",
      "Epoch 52/100\n",
      "6263/6263 [==============================] - 25s 4ms/sample - loss: 0.6483 - accuracy: 0.8034\n",
      "Epoch 53/100\n",
      "6263/6263 [==============================] - 17s 3ms/sample - loss: 0.6439 - accuracy: 0.8036\n",
      "Epoch 54/100\n",
      "6263/6263 [==============================] - 32s 5ms/sample - loss: 0.6491 - accuracy: 0.8012\n",
      "Epoch 55/100\n",
      "6263/6263 [==============================] - 18s 3ms/sample - loss: 0.6516 - accuracy: 0.8034\n",
      "Epoch 56/100\n",
      "6263/6263 [==============================] - 27s 4ms/sample - loss: 0.6462 - accuracy: 0.8046\n",
      "Epoch 57/100\n",
      "6263/6263 [==============================] - 29s 5ms/sample - loss: 0.6450 - accuracy: 0.8039\n",
      "Epoch 58/100\n",
      "6263/6263 [==============================] - 20s 3ms/sample - loss: 0.6418 - accuracy: 0.8068\n",
      "Epoch 59/100\n",
      "6263/6263 [==============================] - 35s 6ms/sample - loss: 0.6453 - accuracy: 0.8047\n",
      "Epoch 60/100\n",
      "6263/6263 [==============================] - 20s 3ms/sample - loss: 0.6460 - accuracy: 0.8023\n",
      "Epoch 61/100\n",
      "6263/6263 [==============================] - 32s 5ms/sample - loss: 0.6615 - accuracy: 0.7977\n",
      "Epoch 62/100\n",
      "6263/6263 [==============================] - 18s 3ms/sample - loss: 1.1945 - accuracy: 0.6826\n",
      "Epoch 63/100\n",
      "6263/6263 [==============================] - 36s 6ms/sample - loss: 3.1011 - accuracy: 0.3589\n",
      "Epoch 64/100\n",
      "6263/6263 [==============================] - 23s 4ms/sample - loss: 2.0321 - accuracy: 0.4994\n",
      "Epoch 65/100\n",
      "6263/6263 [==============================] - 42s 7ms/sample - loss: 1.3243 - accuracy: 0.6454\n",
      "Epoch 66/100\n",
      "6263/6263 [==============================] - 18s 3ms/sample - loss: 0.9986 - accuracy: 0.7337\n",
      "Epoch 67/100\n",
      "6263/6263 [==============================] - 25s 4ms/sample - loss: 0.8399 - accuracy: 0.7712\n",
      "Epoch 68/100\n",
      "6263/6263 [==============================] - 26s 4ms/sample - loss: 0.7581 - accuracy: 0.7929\n",
      "Epoch 69/100\n",
      "6263/6263 [==============================] - 25s 4ms/sample - loss: 0.7168 - accuracy: 0.7966\n",
      "Epoch 70/100\n",
      "6263/6263 [==============================] - 29s 5ms/sample - loss: 0.6865 - accuracy: 0.8028\n",
      "Epoch 71/100\n",
      "6263/6263 [==============================] - 19s 3ms/sample - loss: 0.6788 - accuracy: 0.8017\n",
      "Epoch 72/100\n",
      "6263/6263 [==============================] - 39s 6ms/sample - loss: 0.6773 - accuracy: 0.8036\n",
      "Epoch 73/100\n",
      "6263/6263 [==============================] - 16s 3ms/sample - loss: 0.6637 - accuracy: 0.8046\n",
      "Epoch 74/100\n",
      "6263/6263 [==============================] - 35s 6ms/sample - loss: 0.6558 - accuracy: 0.8027\n",
      "Epoch 75/100\n",
      "6263/6263 [==============================] - 20s 3ms/sample - loss: 0.6577 - accuracy: 0.8039\n",
      "Epoch 76/100\n",
      "6263/6263 [==============================] - 23s 4ms/sample - loss: 0.6593 - accuracy: 0.8044\n",
      "Epoch 77/100\n",
      "6263/6263 [==============================] - 25s 4ms/sample - loss: 0.6530 - accuracy: 0.8036\n",
      "Epoch 78/100\n",
      "6263/6263 [==============================] - 29s 5ms/sample - loss: 0.6613 - accuracy: 0.8004\n",
      "Epoch 79/100\n",
      "6263/6263 [==============================] - 30s 5ms/sample - loss: 0.6579 - accuracy: 0.8022\n",
      "Epoch 80/100\n",
      "6263/6263 [==============================] - 28s 5ms/sample - loss: 0.6637 - accuracy: 0.8055\n",
      "Epoch 81/100\n",
      "6263/6263 [==============================] - 30s 5ms/sample - loss: 0.6774 - accuracy: 0.8023\n",
      "Epoch 82/100\n",
      "6263/6263 [==============================] - 17s 3ms/sample - loss: 1.0062 - accuracy: 0.7211\n",
      "Epoch 83/100\n",
      "6263/6263 [==============================] - 28s 4ms/sample - loss: 2.5734 - accuracy: 0.4346\n",
      "Epoch 84/100\n",
      "6263/6263 [==============================] - 21s 3ms/sample - loss: 2.0017 - accuracy: 0.5152\n",
      "Epoch 85/100\n",
      "6263/6263 [==============================] - 38s 6ms/sample - loss: 1.3489 - accuracy: 0.6331\n",
      "Epoch 86/100\n",
      "6263/6263 [==============================] - 22s 4ms/sample - loss: 1.0121 - accuracy: 0.7236\n",
      "Epoch 87/100\n",
      "6263/6263 [==============================] - 33s 5ms/sample - loss: 0.8273 - accuracy: 0.7690\n",
      "Epoch 88/100\n",
      "6263/6263 [==============================] - 20s 3ms/sample - loss: 0.7500 - accuracy: 0.7892\n",
      "Epoch 89/100\n",
      "6263/6263 [==============================] - 45s 7ms/sample - loss: 0.6963 - accuracy: 0.8009\n",
      "Epoch 90/100\n",
      "6263/6263 [==============================] - 35s 6ms/sample - loss: 0.6756 - accuracy: 0.8042\n",
      "Epoch 91/100\n",
      "6263/6263 [==============================] - 19s 3ms/sample - loss: 0.6687 - accuracy: 0.8012\n",
      "Epoch 92/100\n",
      "6263/6263 [==============================] - 34s 5ms/sample - loss: 0.6603 - accuracy: 0.8038\n",
      "Epoch 93/100\n",
      "6263/6263 [==============================] - 16s 2ms/sample - loss: 0.6558 - accuracy: 0.8031\n",
      "Epoch 94/100\n",
      "6263/6263 [==============================] - 34s 5ms/sample - loss: 0.6573 - accuracy: 0.8036\n",
      "Epoch 95/100\n",
      "6263/6263 [==============================] - 21s 3ms/sample - loss: 0.6519 - accuracy: 0.8046\n",
      "Epoch 96/100\n",
      "6263/6263 [==============================] - 35s 6ms/sample - loss: 0.6545 - accuracy: 0.8014\n",
      "Epoch 97/100\n",
      "6263/6263 [==============================] - 26s 4ms/sample - loss: 0.6602 - accuracy: 0.7998\n",
      "Epoch 98/100\n",
      "6263/6263 [==============================] - 37s 6ms/sample - loss: 0.6539 - accuracy: 0.8030\n",
      "Epoch 99/100\n",
      "6263/6263 [==============================] - 30s 5ms/sample - loss: 0.6515 - accuracy: 0.8019\n",
      "Epoch 100/100\n",
      "6263/6263 [==============================] - 23s 4ms/sample - loss: 0.6593 - accuracy: 0.8039\n",
      "<tensorflow.python.keras.engine.sequential.Sequential object at 0x7fa6ba3cb4d0>\n"
     ]
    }
   ],
   "source": [
    "model = Sequential()\n",
    "model.add(Embedding(total_words, 100, input_length=max_sequence_len-1))\n",
    "model.add(Bidirectional(LSTM(150)))\n",
    "model.add(Dense(total_words, activation='softmax'))\n",
    "adam = Adam(lr=0.01)\n",
    "model.compile(loss='categorical_crossentropy', optimizer=adam, metrics=['accuracy'])\n",
    "#earlystop = EarlyStopping(monitor='val_loss', min_delta=0, patience=5, verbose=0, mode='auto')\n",
    "history = model.fit(xs, ys, epochs=100, verbose=1)\n",
    "#print model.summary()\n",
    "print(model)"
   ]
  },
  {
   "cell_type": "code",
   "execution_count": 20,
   "metadata": {},
   "outputs": [
    {
     "data": {
      "image/png": "[encoded data removed]",
      "text/plain": [
       "<Figure size 432x288 with 1 Axes>"
      ]
     },
     "metadata": {
      "needs_background": "light"
     },
     "output_type": "display_data"
    }
   ],
   "source": [
    "%matplotlib inline\n",
    "import matplotlib.pyplot as plt\n",
    "\n",
    "def plot_graphs(history, string):\n",
    "  plt.plot(history.history[string])\n",
    "  plt.xlabel(\"Epochs\")\n",
    "  plt.ylabel(string)\n",
    "  plt.show()\n",
    "\n",
    "plot_graphs(history, 'accuracy')"
   ]
  },
  {
   "cell_type": "code",
   "execution_count": 24,
   "metadata": {},
   "outputs": [
    {
     "name": "stdout",
     "output_type": "stream",
     "text": [
      "All I can say is so bold it her to the stars above let her go god bless her all before love please the brain open night women's to you the day off and try to repair you girl an pretty bad till the sun you ever feels i got mud on my shoes all as we were have better blood cause i come home and rescue you standing here with the holy ghost go of this plan wide everything i love you almost dropped me so maybe i five six seven or think should i lay on her now my pocket change your day\n"
     ]
    }
   ],
   "source": [
    "seed_text = \"All I can say is\"\n",
    "next_words = 100\n",
    "  \n",
    "for _ in range(next_words):\n",
    "\ttoken_list = tokenizer.texts_to_sequences([seed_text])[0]\n",
    "\ttoken_list = pad_sequences([token_list], maxlen=max_sequence_len-1, padding='pre')\n",
    "\t# predicted = model.predict_classes(token_list, verbose=0)\n",
    "\tpredict_x=model.predict(token_list) \n",
    "\tclasses_x=np.argmax(predict_x,axis=1)\n",
    "\toutput_word = \"\"\n",
    "\tfor word, index in tokenizer.word_index.items():\n",
    "\t\tif index == classes_x:\n",
    "\t\t\toutput_word = word\n",
    "\t\t\tbreak\n",
    "\tseed_text += \" \" + output_word\n",
    "print(seed_text)"
   ]
  },
  {
   "cell_type": "markdown",
   "metadata": {},
   "source": [
    "Dead leaves and the dirty ground and laying \\\n",
    "nobody's praying \\\n",
    "oh oh oh oh oh \\\n",
    "name only make a lot of money \\\n",
    "around books new around \\\n",
    "six crap shootin' pallbearers \\\n",
    "in my hand again \\\n",
    "this much written \\\n",
    "make hold money of girls \\\n",
    "he don't forget it \\\n",
    "inside sky these adore that you're \\\n",
    "somebody calls out for another plate of food \\\n",
    "your english lovin' thoughts important \\\n",
    "come off and least that hi \\\n",
    "some on the couch girl \\\n",
    "isn't that when she finds \\\n",
    "all as someone left is fleeting \\\n",
    "they in i look it  \\\n",
    "the newspaper or choose that \\\n",
    "i love jack white like a toothache baby  \\\n",
    "little"
   ]
  },
  {
   "cell_type": "markdown",
   "metadata": {},
   "source": [
    "#### I Love Jack White Like A Toothache, Baby\n",
    "##### An exploration of text generation using recurrant neural networks"
   ]
  },
  {
   "cell_type": "markdown",
   "metadata": {},
   "source": []
  }
 ],
 "metadata": {
  "interpreter": {
   "hash": "dc1b947dce198ff7f2d2cb152b2cbb61132fce4429fa808fd5b89ac4d7df39fa"
  },
  "kernelspec": {
   "display_name": "Python 3.7.11 64-bit ('tf': conda)",
   "language": "python",
   "name": "python3"
  },
  "language_info": {
   "codemirror_mode": {
    "name": "ipython",
    "version": 3
   },
   "file_extension": ".py",
   "mimetype": "text/x-python",
   "name": "python",
   "nbconvert_exporter": "python",
   "pygments_lexer": "ipython3",
   "version": "3.7.11"
  },
  "orig_nbformat": 4
 },
 "nbformat": 4,
 "nbformat_minor": 2
}
